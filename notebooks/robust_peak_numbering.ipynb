{
 "cells": [
  {
   "cell_type": "markdown",
   "id": "artistic-manor",
   "metadata": {},
   "source": [
    "# A Robust Peak Numbering Algorithm"
   ]
  },
  {
   "cell_type": "markdown",
   "id": "confirmed-rehabilitation",
   "metadata": {},
   "source": [
    "## Problem description\n",
    "\n",
    "Signal output of a Multi-Pixel Photon Counter (MPPC) is best seen by this scope screenshot provided by Hamamatsu.\n",
    "\n",
    "![title](https://hub.hamamatsu.com/sp/hc/resources/TN0014/figure_1-14a.jpg)\n",
    "\n",
    "The most conspicuous feature in the screenshot is that the amplitudes of signals are integral multiples of a unit amplitude. In this example, the green trace has an amplitude 2 times as large as that of the orange trace. If one integrates the area under the signals, the area values will concentrate at integral multiples of a certain area, forming peaks with a equal distance."
   ]
  },
  {
   "cell_type": "code",
   "execution_count": null,
   "id": "detailed-handy",
   "metadata": {},
   "outputs": [],
   "source": []
  }
 ],
 "metadata": {
  "kernelspec": {
   "display_name": "Python 3",
   "language": "python",
   "name": "python3"
  },
  "language_info": {
   "codemirror_mode": {
    "name": "ipython",
    "version": 3
   },
   "file_extension": ".py",
   "mimetype": "text/x-python",
   "name": "python",
   "nbconvert_exporter": "python",
   "pygments_lexer": "ipython3",
   "version": "3.9.2"
  }
 },
 "nbformat": 4,
 "nbformat_minor": 5
}
