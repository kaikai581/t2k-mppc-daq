{
 "cells": [
  {
   "cell_type": "markdown",
   "id": "aa828610",
   "metadata": {},
   "source": [
    "# Build a Circuit to Emulate the Scope's Filter\n",
    "\n",
    "Main reference: [Passive Low Pass Filter](https://www.electronics-tutorials.ws/filter/filter_2.html)\n",
    "\n",
    "## Relavant Equiations\n",
    "\n",
    "### RC Potential Divider Equation\n",
    "$$ V_{out}=V_{in}\\frac{X_C}{Z} \\; (V)$$\n",
    "where\n",
    "\\begin{align}\n",
    "    X_C & = \\frac{1}{2\\pi fC} \\; (\\Omega)\\\\\n",
    "    Z & = \\sqrt{R^2+X_C^2} \\; (\\Omega)\n",
    "\\end{align}\n",
    "\n",
    "Voltage gain can be written as\n",
    "\\begin{align}\n",
    "    \\frac{V_{out}}{V_{in}} &= \\frac{1}{\\sqrt{1+\\left(\\frac{R}{X_C}\\right)^2}} \\\\\n",
    "    &= \\frac{1}{\\sqrt{1+ \\left( 2\\pi fRC \\right)^2 }}\n",
    "\\label{eq:voltage_gain} \\tag{1}\n",
    "\\end{align}\n",
    "\n",
    "### Power Gain Level\n",
    "\n",
    "The [power gain level](https://en.wikipedia.org/wiki/Decibel#Root-power_(field)_quantities) is defined as\n",
    "\\begin{align}\n",
    "    L_G &= 10\\log\\left( \\frac{V_{out}}{V_{in}}\\right)^2 \\\\\n",
    "    &= 20\\log\\left( \\frac{V_{out}}{V_{in}}\\right) \\; \\textrm{(dB)}\n",
    "\\label{eq:power_gain_level} \\tag{2}\n",
    "\\end{align}\n",
    "\n",
    "We can make the famous [**Bode plot**](https://en.wikipedia.org/wiki/Bode_plot) with $RC=1$. (maybe not now...)\n",
    "\n",
    "### Cutoff Frequency\n",
    "The cutoff frequency is defined as the frequency at which the power gain drops to $50\\%$. In decibel unit, this value is $-3$ dB, known as the [$3$ dB point](https://en.wikipedia.org/wiki/Cutoff_frequency#Electronics).\n",
    "\n",
    "<span style=\"color:red\">Here is an ambiguity. In literature about Butterworth filter, frequency actually means **angular frequency**. However, by glancing through the scope's manual, I cannot figure out whether the frequency is the **usual frequency** or the **angular frequency**.</span>\n",
    "\n",
    "<span style=\"color:blue\">For now, I will assume the frequency used by the scope is also **angular frequency**.</span>\n",
    "\n",
    "## The RC Values Leading to a 20 MHz Cutoff\n",
    "\n",
    "With a power gain $\\alpha$, we have\n",
    "\\begin{equation}\n",
    "    \\left( \\frac{V_{out}}{V_{in}} \\right)^2=\\alpha\n",
    "\\label{eq:cutoff_power} \\tag{3}\n",
    "\\end{equation}\n",
    "\n",
    "Substitute eq.$~\\eqref{eq:voltage_gain}$ into eq.$~\\eqref{eq:cutoff_power}$ and rearrange, we have\n",
    "\\begin{equation}\n",
    "    RC=\\frac{1}{\\omega}\\sqrt{\\frac{1}{\\alpha}-1} \\;\\; (\\omega=2\\pi f)\n",
    "\\end{equation}\n",
    "\n",
    "With $\\alpha=0.5$, $\\omega =20$ MHz, we obtain\n",
    "\\begin{equation}\n",
    "    \\boxed{RC=5\\times 10^{-8}}\n",
    "\\end{equation}"
   ]
  },
  {
   "cell_type": "code",
   "execution_count": 2,
   "id": "6fb1964a",
   "metadata": {},
   "outputs": [
    {
     "name": "stdout",
     "output_type": "stream",
     "text": [
      "5e-08\n"
     ]
    }
   ],
   "source": [
    "from math import *\n",
    "RC=1/20e6*sqrt(1/.5-1)\n",
    "print(RC)"
   ]
  },
  {
   "cell_type": "markdown",
   "id": "f5ee1397",
   "metadata": {},
   "source": [
    "## Scope Measurement\n",
    "\n",
    "I inject sine waves with fixed frequency from the pulse generator. The pulse generator shows that the frequency it means is **normal frequency**.\n",
    "\n",
    "The pulse amplitude I set up on the function generator is 1.65 V. However, I am measuring peak-to-peak voltage with the scope, which is enlarged by noise."
   ]
  },
  {
   "cell_type": "code",
   "execution_count": 30,
   "id": "60e364d5",
   "metadata": {},
   "outputs": [],
   "source": [
    "import matplotlib.pyplot as plt\n",
    "import math\n",
    "import numpy as np\n",
    "import scipy.optimize\n",
    "x = [1e6, 5e6, 10e6, 15e6, 20e6, 50e6]\n",
    "y = [1.88, 1.82, 1.72, 1.56, 1.32, 0.2]"
   ]
  },
  {
   "cell_type": "code",
   "execution_count": 31,
   "id": "cff12986",
   "metadata": {},
   "outputs": [
    {
     "name": "stdout",
     "output_type": "stream",
     "text": [
      "1.9575163221386551 1.0142112457520719e-08\n"
     ]
    },
    {
     "data": {
      "image/png": "[encoded data removed]",
      "text/plain": [
       "<Figure size 432x288 with 1 Axes>"
      ]
     },
     "metadata": {
      "needs_background": "light"
     },
     "output_type": "display_data"
    }
   ],
   "source": [
    "def divider_eq(x, vin, RC_f):\n",
    "    return vin/np.sqrt(1+(2*math.pi*x*RC_f)**2)\n",
    "# initial parameters\n",
    "p_init = [1, 5e-1]\n",
    "fit_par, fit_err = scipy.optimize.curve_fit(divider_eq, x, y, p_init)\n",
    "print(fit_par[0], fit_par[1])\n",
    "\n",
    "x_fit = np.linspace(.5e6, 51e6, 100)\n",
    "y_fit = divider_eq(x_fit, fit_par[0], fit_par[1])\n",
    "plot_fit = plt.scatter(x=x_fit, y=y_fit, c='r')\n",
    "\n",
    "plot_raw_meas = plt.scatter(x=x, y=y)\n",
    "cache = plt.xlabel('frequency (not angular) (Hz)')\n",
    "cache = plt.ylabel('amplitude (V)')"
   ]
  }
 ],
 "metadata": {
  "kernelspec": {
   "display_name": "Python 3 (ipykernel)",
   "language": "python",
   "name": "python3"
  },
  "language_info": {
   "codemirror_mode": {
    "name": "ipython",
    "version": 3
   },
   "file_extension": ".py",
   "mimetype": "text/x-python",
   "name": "python",
   "nbconvert_exporter": "python",
   "pygments_lexer": "ipython3",
   "version": "3.9.5"
  }
 },
 "nbformat": 4,
 "nbformat_minor": 5
}
