{
 "cells": [
  {
   "cell_type": "code",
   "execution_count": 4,
   "metadata": {},
   "outputs": [],
   "source": [
    "from glob import glob\n",
    "from waveform_tools import ScopeWaveform"
   ]
  },
  {
   "cell_type": "code",
   "execution_count": 5,
   "metadata": {},
   "outputs": [],
   "source": [
    "infpns = glob('20220321_data_58V/*.csv')\n",
    "\n",
    "def trigger_intervals_one_file(infpn):\n",
    "    wf = ScopeWaveform(infpn)\n",
    "    print(wf.waveform_peaks(9e-3))\n",
    "    print(wf.df.head())\n",
    "    wf.draw_waveform()"
   ]
  },
  {
   "cell_type": "code",
   "execution_count": 6,
   "metadata": {},
   "outputs": [
    {
     "name": "stderr",
     "output_type": "stream",
     "text": [
      "/home/kaikai/work/git-repos/t2k-mppc-daq/FEBDAQMULTx2/data_analysis/14_scope_waveforms/tektronix_mso5204/waveform_tools.py:14: DtypeWarning: Columns (0,2) have mixed types. Specify dtype option on import or set low_memory=False.\n",
      "  self.df = pd.read_csv(infpn, names=columns)\n"
     ]
    },
    {
     "name": "stdout",
     "output_type": "stream",
     "text": [
      "[]\n",
      "         info_name         value    units     time  waveform_value  \\\n",
      "0    Record Length  5.000000e+05   Points -0.00004         -0.0012   \n",
      "1  Sample Interval  2.000000e-10        s -0.00004          0.0012   \n",
      "2    Trigger Point  1.999000e+05  Samples -0.00004         -0.0012   \n",
      "3     Trigger Time  1.405610e-10        s -0.00004         -0.0012   \n",
      "4              NaN           NaN      NaN -0.00004          0.0036   \n",
      "\n",
      "   partial_integral  is_peak  \n",
      "0     -1.200000e-03    False  \n",
      "1      4.000000e-11    False  \n",
      "2     -1.200000e-03    False  \n",
      "3     -2.400000e-03    False  \n",
      "4      1.200000e-03    False  \n"
     ]
    }
   ],
   "source": [
    "trigger_intervals_one_file(infpns[1])"
   ]
  },
  {
   "cell_type": "code",
   "execution_count": null,
   "metadata": {},
   "outputs": [],
   "source": []
  }
 ],
 "metadata": {
  "interpreter": {
   "hash": "464cb4416c1bbb1013f12739a10e028ffee1bbadc4388d1a4e097aa1340e7516"
  },
  "kernelspec": {
   "display_name": "Python 3.9.10 ('conda-forge')",
   "language": "python",
   "name": "python3"
  },
  "language_info": {
   "codemirror_mode": {
    "name": "ipython",
    "version": 3
   },
   "file_extension": ".py",
   "mimetype": "text/x-python",
   "name": "python",
   "nbconvert_exporter": "python",
   "pygments_lexer": "ipython3",
   "version": "3.9.10"
  },
  "orig_nbformat": 4
 },
 "nbformat": 4,
 "nbformat_minor": 2
}
